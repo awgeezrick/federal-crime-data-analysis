{
 "cells": [
  {
   "cell_type": "markdown",
   "metadata": {},
   "source": [
    "# Standardizing FBI Return A data"
   ]
  },
  {
   "cell_type": "code",
   "execution_count": 1,
   "metadata": {},
   "outputs": [],
   "source": [
    "import pandas as pd\n",
    "import struct\n",
    "import sys\n",
    "import glob"
   ]
  },
  {
   "cell_type": "markdown",
   "metadata": {},
   "source": [
    "# Step 1: Parse data from fixed-width files\n",
    "\n",
    "The code in this step is largely adopted from [Donald Braman's Return A conversion scripts](https://github.com/donaldbraman/fbi-reta-data) — specifically [schemagenerating.py](https://github.com/donaldbraman/fbi-reta-data/blob/master/script/schemagenerating.py) and [fwf2psv.py](https://github.com/donaldbraman/fbi-reta-data/blob/master/script/fwf2psv.py).\n",
    "\n",
    "We also convert the FBI's textual representation of numbers into integers. (The raw data uses an unconventional system of denoting negative numbers.)"
   ]
  },
  {
   "cell_type": "code",
   "execution_count": 2,
   "metadata": {},
   "outputs": [],
   "source": [
    "file_header_widths = [\n",
    "    1, 2, 7, 2, 1, 2, 5, 2, 1, 7, 1,\n",
    "    6, 4, 2, 1, 9, 3, 3, 9, 3, 3, 9,\n",
    "    3, 3, 9, 9, 9, 1, 1, 1, 1, 24, 6,\n",
    "    30, 30, 30, 30, 5, 1, 29\n",
    "]\n",
    "\n",
    "monthly_header_widths = [\n",
    "    2, 6, 1, 1, 1, 1, 1, 1, 1, 1, 1\n",
    "] \n",
    "\n",
    "cards_0123_widths = [\n",
    "    5, 5, 5, 5, 5, 5, 5, 5, 5, 5, 5,\n",
    "    5, 5, 5, 5, 5, 5, 5, 5, 5, 5, 5,\n",
    "    5, 5, 5, 5, 5, 5\n",
    "] \n",
    "\n",
    "card_4_widths = [\n",
    "    3, 3, 7\n",
    "]\n",
    "\n",
    "mw =  monthly_header_widths + cards_0123_widths * 4 + card_4_widths\n",
    "field_widths = file_header_widths + mw * 12\n",
    "assert sum(field_widths) == 7385"
   ]
  },
  {
   "cell_type": "code",
   "execution_count": 3,
   "metadata": {},
   "outputs": [],
   "source": [
    "file_header_names = [\n",
    "    \"id\", \"state\", \"agency_ori_7\", \"ori_group\", \"division\", \n",
    "    \"year\", \"sequence\", \"juv_age\", \"core_ci\", \"covered_by\", \"covered_by_group\", \n",
    "    \"last_update\", \"field_office\", \"num_months\", \"agency_count\",\n",
    "    \"pop1\", \"county1\", \"msa1\", \n",
    "    \"pop2\", \"county2\", \"msa2\", \n",
    "    \"pop3\", \"county3\", \"msa3\",\n",
    "    \"county1_pop\", \"county2_pop\", \"county3_pop\", \n",
    "    \"pop_source\", \n",
    "    \"follow_up\", \"special_mail_group\", \"special_mail_addr\",\n",
    "    \"agency_name\", \"agency_state\", \n",
    "    \"address1\", \"address2\", \"address3\", \"address4\", \"zip\",\n",
    "    \"old_pop_group\",\n",
    "    \"unused_header\"\n",
    "]\n",
    "\n",
    "monthly_header_names = [\n",
    "    \"month_in\", \"date_last_update\", \n",
    "    \"card_0_type\", \"card_1_type\", \"card_2_type\", \"card_3_type\", \"card_4_type\", \n",
    "    \"card_0_pt\", \"card_1_pt\", \"card_2_pt\", \"card_3_pt\"\n",
    "]\n",
    "\n",
    "crime_card_prefixes = [\n",
    "    \"unfounded_\",\n",
    "    \"actual_\",\n",
    "    \"cleared_\",\n",
    "    \"cleared_u18_\"\n",
    "]\n",
    "\n",
    "cards_0123_names = [\n",
    "    \"murder\",\n",
    "    \"manslaughter\",\n",
    "    \"rape_total\", \"rape_by_force\",  \"rape_attempt\",\n",
    "    \"robbery_total\", \"robbery_gun\", \"robbery_knife\", \"robbery_othweap\",  \"robbery_strong_arm\",\n",
    "    \"assault_total\", \"assault_gun\", \"assault_knife\", \"assault_othweap\", \"assault_hands\", \"assault_simple\", \n",
    "    \"burglary_total\", \"burglary_forcible_entry\", \"burglary_no_forcible_entry\", \"burglary_attempt\",\n",
    "    \"larceny\", \"motor_vehicle_theft\", \"auto_theft\", \"truck_bus_theft\", \"other_vehicle_theft\", \n",
    "    \"total_all_fields\", \"larceny_under_50_dollars\", \"unused\"\n",
    "]\n",
    "\n",
    "cards =  [\n",
    "    prefix + offense\n",
    "        for prefix in crime_card_prefixes\n",
    "              for offense in cards_0123_names\n",
    "]\n",
    "\n",
    "card_4_names = [\n",
    "    \"officers_killed_felony\",\n",
    "    \"officers_killed_accident\",\n",
    "    \"officers_assaulted\"\n",
    "]\n",
    "\n",
    "card_names = monthly_header_names + cards + card_4_names\n",
    "\n",
    "month_prefixes = [\n",
    "    \"jan_\", \"feb_\", \"mar_\", \"apr_\", \"may_\", \"jun_\",\n",
    "    \"jul_\", \"aug_\", \"sep_\", \"oct_\", \"nov_\", \"dec_\"\n",
    "]\n",
    "\n",
    "twelve_cards = [\n",
    "    month + cn\n",
    "        for month in month_prefixes\n",
    "            for cn in card_names\n",
    "]\n",
    "\n",
    "field_names = file_header_names + twelve_cards\n",
    "\n",
    "assert len(field_names) == len(field_widths)"
   ]
  },
  {
   "cell_type": "code",
   "execution_count": 4,
   "metadata": {},
   "outputs": [
    {
     "data": {
      "text/plain": [
       "175"
      ]
     },
     "execution_count": 4,
     "metadata": {},
     "output_type": "execute_result"
    }
   ],
   "source": [
    "cols_trimmed = [ c for c in field_names if (\n",
    "    c in [ \"year\", \"agency_ori_7\", \"agency_name\", \"ori_group\", \"pop1\", \"pop2\", \"pop3\" ]\n",
    "    or ((\n",
    "        \"_cleared_\" in c\n",
    "        or \"_actual_\" in c\n",
    "    ) and (\"murder\" in c or \"assault\" in c) and (\"18\" not in c))\n",
    ") ]\n",
    "\n",
    "len(cols_trimmed)"
   ]
  },
  {
   "cell_type": "code",
   "execution_count": 5,
   "metadata": {},
   "outputs": [
    {
     "data": {
      "text/plain": [
       "['agency_ori_7', 'ori_group', 'year']"
      ]
     },
     "execution_count": 5,
     "metadata": {},
     "output_type": "execute_result"
    }
   ],
   "source": [
    "cols_trimmed[:3]"
   ]
  },
  {
   "cell_type": "code",
   "execution_count": 6,
   "metadata": {},
   "outputs": [
    {
     "data": {
      "text/plain": [
       "[2, 3, 5]"
      ]
     },
     "execution_count": 6,
     "metadata": {},
     "output_type": "execute_result"
    }
   ],
   "source": [
    "trimmed_indexes = [ field_names.index(c) for c in cols_trimmed ]\n",
    "trimmed_indexes[:3]"
   ]
  },
  {
   "cell_type": "code",
   "execution_count": 7,
   "metadata": {},
   "outputs": [],
   "source": [
    "# Make sure they're in correct order\n",
    "assert (\n",
    "    pd.Series(trimmed_indexes) - pd.Series(trimmed_indexes).shift(1)\n",
    ").loc[lambda x: x < 0].pipe(len) == 0"
   ]
  },
  {
   "cell_type": "code",
   "execution_count": 8,
   "metadata": {},
   "outputs": [],
   "source": [
    "def build_parser():\n",
    "    total_width = sum(field_widths)\n",
    "    fmtstring = \" \".join(\"{}s\".format(fw) for fw in field_widths)\n",
    "    fieldstruct = struct.Struct(fmtstring)\n",
    "    parse_bytes = fieldstruct.unpack_from\n",
    "        \n",
    "    def parse_line(line):\n",
    "        line = line.strip().replace(b\"\\x00\", b\"\")\n",
    "        line = line + b\" \" * (total_width - len(line))\n",
    "        return [ x.strip().decode(\"latin-1\") for i, x in enumerate(parse_bytes(line))\n",
    "            if i in trimmed_indexes ]\n",
    "\n",
    "    return parse_line\n",
    "\n",
    "parser = build_parser()"
   ]
  },
  {
   "cell_type": "code",
   "execution_count": 9,
   "metadata": {},
   "outputs": [],
   "source": [
    "def convert_year(year_str):\n",
    "    year_int = int(year_str)\n",
    "    if year_int < 60: return 2000 + year_int\n",
    "    else: return 1900 + year_int"
   ]
  },
  {
   "cell_type": "code",
   "execution_count": 10,
   "metadata": {},
   "outputs": [],
   "source": [
    "NEGATIVE_SYMBOLS = \"}JKLMNOPQR\""
   ]
  },
  {
   "cell_type": "code",
   "execution_count": 11,
   "metadata": {},
   "outputs": [],
   "source": [
    "def parse_reta_num_string(num_string):\n",
    "    try: return int(num_string)\n",
    "    except:\n",
    "        base = (-10 * int(num_string[:-1]))\n",
    "        return base - NEGATIVE_SYMBOLS.index(num_string[-1])"
   ]
  },
  {
   "cell_type": "markdown",
   "metadata": {},
   "source": [
    "Example:"
   ]
  },
  {
   "cell_type": "code",
   "execution_count": 12,
   "metadata": {
    "scrolled": true
   },
   "outputs": [
    {
     "data": {
      "text/plain": [
       "-11"
      ]
     },
     "execution_count": 12,
     "metadata": {},
     "output_type": "execute_result"
    }
   ],
   "source": [
    "parse_reta_num_string(\"00001J\")"
   ]
  },
  {
   "cell_type": "code",
   "execution_count": 13,
   "metadata": {},
   "outputs": [],
   "source": [
    "def parse_file(path):\n",
    "    sys.stderr.write(f\"Parsing {path}\\n\")\n",
    "    sys.stderr.flush()\n",
    "    df = (\n",
    "        pd.DataFrame(\n",
    "            list(map(parser, open(path, \"rb\"))),\n",
    "            columns = cols_trimmed\n",
    "        )\n",
    "        .replace(\"\", pd.np.nan)\n",
    "        .dropna(subset = [ \"agency_ori_7\", \"year\" ])\n",
    "    )\n",
    "    df[\"year\"] = df[\"year\"].apply(convert_year)\n",
    "    \n",
    "    for col in df.columns:\n",
    "        if \"pop\" in col[:3]:\n",
    "            df[col] = df[col].astype(int)\n",
    "        elif \"_actual_\" in col or \"_cleared_\" in col:\n",
    "            df[col] = df[col].apply(parse_reta_num_string).astype(int)\n",
    "        else:\n",
    "            pass\n",
    "        \n",
    "    return df"
   ]
  },
  {
   "cell_type": "code",
   "execution_count": 14,
   "metadata": {},
   "outputs": [
    {
     "data": {
      "text/plain": [
       "58"
      ]
     },
     "execution_count": 14,
     "metadata": {},
     "output_type": "execute_result"
    }
   ],
   "source": [
    "paths = sorted(glob.glob(\"../../data/raw/reta/*.DAT\"))\n",
    "len(paths)"
   ]
  },
  {
   "cell_type": "code",
   "execution_count": 15,
   "metadata": {
    "scrolled": false
   },
   "outputs": [
    {
     "name": "stderr",
     "output_type": "stream",
     "text": [
      "Parsing ../../data/raw/reta/RETA1960.DAT\n",
      "Parsing ../../data/raw/reta/RETA1961.DAT\n",
      "Parsing ../../data/raw/reta/RETA1962.DAT\n",
      "Parsing ../../data/raw/reta/RETA1963.DAT\n",
      "Parsing ../../data/raw/reta/RETA1964.DAT\n",
      "Parsing ../../data/raw/reta/RETA1965.DAT\n",
      "Parsing ../../data/raw/reta/RETA1966.DAT\n",
      "Parsing ../../data/raw/reta/RETA1967.DAT\n",
      "Parsing ../../data/raw/reta/RETA1968.DAT\n",
      "Parsing ../../data/raw/reta/RETA1969.DAT\n",
      "Parsing ../../data/raw/reta/RETA1970.DAT\n",
      "Parsing ../../data/raw/reta/RETA1971.DAT\n",
      "Parsing ../../data/raw/reta/RETA1972.DAT\n",
      "Parsing ../../data/raw/reta/RETA1973.DAT\n",
      "Parsing ../../data/raw/reta/RETA1974.DAT\n",
      "Parsing ../../data/raw/reta/RETA1975.DAT\n",
      "Parsing ../../data/raw/reta/RETA1976.DAT\n",
      "Parsing ../../data/raw/reta/RETA1977.DAT\n",
      "Parsing ../../data/raw/reta/RETA1978.DAT\n",
      "Parsing ../../data/raw/reta/RETA1979.DAT\n",
      "Parsing ../../data/raw/reta/RETA1980.DAT\n",
      "Parsing ../../data/raw/reta/RETA1981.DAT\n",
      "Parsing ../../data/raw/reta/RETA1982.DAT\n",
      "Parsing ../../data/raw/reta/RETA1983.DAT\n",
      "Parsing ../../data/raw/reta/RETA1984.DAT\n",
      "Parsing ../../data/raw/reta/RETA1985.DAT\n",
      "Parsing ../../data/raw/reta/RETA1986.DAT\n",
      "Parsing ../../data/raw/reta/RETA1987.DAT\n",
      "Parsing ../../data/raw/reta/RETA1988.DAT\n",
      "Parsing ../../data/raw/reta/RETA1989.DAT\n",
      "Parsing ../../data/raw/reta/RETA1990.DAT\n",
      "Parsing ../../data/raw/reta/RETA1991.DAT\n",
      "Parsing ../../data/raw/reta/RETA1992.DAT\n",
      "Parsing ../../data/raw/reta/RETA1993.DAT\n",
      "Parsing ../../data/raw/reta/RETA1994.DAT\n",
      "Parsing ../../data/raw/reta/RETA1995.DAT\n",
      "Parsing ../../data/raw/reta/RETA1996.DAT\n",
      "Parsing ../../data/raw/reta/RETA1997.DAT\n",
      "Parsing ../../data/raw/reta/RETA1998.DAT\n",
      "Parsing ../../data/raw/reta/RETA1999.DAT\n",
      "Parsing ../../data/raw/reta/RETA2000.DAT\n",
      "Parsing ../../data/raw/reta/RETA2001.DAT\n",
      "Parsing ../../data/raw/reta/RETA2002.DAT\n",
      "Parsing ../../data/raw/reta/RETA2003.DAT\n",
      "Parsing ../../data/raw/reta/RETA2004.DAT\n",
      "Parsing ../../data/raw/reta/RETA2005.DAT\n",
      "Parsing ../../data/raw/reta/RETA2006.DAT\n",
      "Parsing ../../data/raw/reta/RETA2007.DAT\n",
      "Parsing ../../data/raw/reta/RETA2008.DAT\n",
      "Parsing ../../data/raw/reta/RETA2009.DAT\n",
      "Parsing ../../data/raw/reta/RETA2010.DAT\n",
      "Parsing ../../data/raw/reta/RETA2011.DAT\n",
      "Parsing ../../data/raw/reta/RETA2012.DAT\n",
      "Parsing ../../data/raw/reta/RETA2013.DAT\n",
      "Parsing ../../data/raw/reta/RETA2014.DAT\n",
      "Parsing ../../data/raw/reta/RETA2015.DAT\n",
      "Parsing ../../data/raw/reta/RETA2016.DAT\n",
      "Parsing ../../data/raw/reta/RETA2017.DAT\n"
     ]
    }
   ],
   "source": [
    "parsed = pd.DataFrame()\n",
    "for path in paths:\n",
    "    parsed = pd.concat([ parsed, parse_file(path) ])"
   ]
  },
  {
   "cell_type": "code",
   "execution_count": 16,
   "metadata": {},
   "outputs": [
    {
     "data": {
      "text/html": [
       "<div>\n",
       "<style scoped>\n",
       "    .dataframe tbody tr th:only-of-type {\n",
       "        vertical-align: middle;\n",
       "    }\n",
       "\n",
       "    .dataframe tbody tr th {\n",
       "        vertical-align: top;\n",
       "    }\n",
       "\n",
       "    .dataframe thead th {\n",
       "        text-align: right;\n",
       "    }\n",
       "</style>\n",
       "<table border=\"1\" class=\"dataframe\">\n",
       "  <thead>\n",
       "    <tr style=\"text-align: right;\">\n",
       "      <th></th>\n",
       "      <th>agency_ori_7</th>\n",
       "      <th>ori_group</th>\n",
       "      <th>year</th>\n",
       "      <th>pop1</th>\n",
       "      <th>pop2</th>\n",
       "      <th>pop3</th>\n",
       "      <th>agency_name</th>\n",
       "      <th>jan_actual_murder</th>\n",
       "      <th>jan_actual_assault_total</th>\n",
       "      <th>jan_actual_assault_gun</th>\n",
       "      <th>...</th>\n",
       "      <th>dec_actual_assault_othweap</th>\n",
       "      <th>dec_actual_assault_hands</th>\n",
       "      <th>dec_actual_assault_simple</th>\n",
       "      <th>dec_cleared_murder</th>\n",
       "      <th>dec_cleared_assault_total</th>\n",
       "      <th>dec_cleared_assault_gun</th>\n",
       "      <th>dec_cleared_assault_knife</th>\n",
       "      <th>dec_cleared_assault_othweap</th>\n",
       "      <th>dec_cleared_assault_hands</th>\n",
       "      <th>dec_cleared_assault_simple</th>\n",
       "    </tr>\n",
       "  </thead>\n",
       "  <tbody>\n",
       "    <tr>\n",
       "      <th>0</th>\n",
       "      <td>AL00100</td>\n",
       "      <td>9A</td>\n",
       "      <td>1960</td>\n",
       "      <td>165354</td>\n",
       "      <td>0</td>\n",
       "      <td>0</td>\n",
       "      <td>JEFFERSON</td>\n",
       "      <td>0</td>\n",
       "      <td>7</td>\n",
       "      <td>0</td>\n",
       "      <td>...</td>\n",
       "      <td>0</td>\n",
       "      <td>0</td>\n",
       "      <td>0</td>\n",
       "      <td>0</td>\n",
       "      <td>0</td>\n",
       "      <td>0</td>\n",
       "      <td>0</td>\n",
       "      <td>0</td>\n",
       "      <td>0</td>\n",
       "      <td>0</td>\n",
       "    </tr>\n",
       "    <tr>\n",
       "      <th>1</th>\n",
       "      <td>AL00101</td>\n",
       "      <td>4</td>\n",
       "      <td>1960</td>\n",
       "      <td>33054</td>\n",
       "      <td>0</td>\n",
       "      <td>0</td>\n",
       "      <td>BESSEMER</td>\n",
       "      <td>0</td>\n",
       "      <td>6</td>\n",
       "      <td>0</td>\n",
       "      <td>...</td>\n",
       "      <td>0</td>\n",
       "      <td>0</td>\n",
       "      <td>0</td>\n",
       "      <td>0</td>\n",
       "      <td>0</td>\n",
       "      <td>0</td>\n",
       "      <td>0</td>\n",
       "      <td>0</td>\n",
       "      <td>0</td>\n",
       "      <td>0</td>\n",
       "    </tr>\n",
       "    <tr>\n",
       "      <th>2</th>\n",
       "      <td>AL00102</td>\n",
       "      <td>1C</td>\n",
       "      <td>1960</td>\n",
       "      <td>340887</td>\n",
       "      <td>0</td>\n",
       "      <td>0</td>\n",
       "      <td>BIRMINGHAM</td>\n",
       "      <td>2</td>\n",
       "      <td>82</td>\n",
       "      <td>0</td>\n",
       "      <td>...</td>\n",
       "      <td>0</td>\n",
       "      <td>0</td>\n",
       "      <td>0</td>\n",
       "      <td>0</td>\n",
       "      <td>0</td>\n",
       "      <td>0</td>\n",
       "      <td>0</td>\n",
       "      <td>0</td>\n",
       "      <td>0</td>\n",
       "      <td>0</td>\n",
       "    </tr>\n",
       "    <tr>\n",
       "      <th>3</th>\n",
       "      <td>AL00103</td>\n",
       "      <td>5</td>\n",
       "      <td>1960</td>\n",
       "      <td>12680</td>\n",
       "      <td>0</td>\n",
       "      <td>0</td>\n",
       "      <td>MOUNTAIN BROOK</td>\n",
       "      <td>0</td>\n",
       "      <td>0</td>\n",
       "      <td>0</td>\n",
       "      <td>...</td>\n",
       "      <td>0</td>\n",
       "      <td>0</td>\n",
       "      <td>0</td>\n",
       "      <td>0</td>\n",
       "      <td>0</td>\n",
       "      <td>0</td>\n",
       "      <td>0</td>\n",
       "      <td>0</td>\n",
       "      <td>0</td>\n",
       "      <td>0</td>\n",
       "    </tr>\n",
       "    <tr>\n",
       "      <th>4</th>\n",
       "      <td>AL00104</td>\n",
       "      <td>5</td>\n",
       "      <td>1960</td>\n",
       "      <td>15816</td>\n",
       "      <td>0</td>\n",
       "      <td>0</td>\n",
       "      <td>FAIRFIELD</td>\n",
       "      <td>0</td>\n",
       "      <td>4</td>\n",
       "      <td>0</td>\n",
       "      <td>...</td>\n",
       "      <td>0</td>\n",
       "      <td>0</td>\n",
       "      <td>0</td>\n",
       "      <td>0</td>\n",
       "      <td>0</td>\n",
       "      <td>0</td>\n",
       "      <td>0</td>\n",
       "      <td>0</td>\n",
       "      <td>0</td>\n",
       "      <td>0</td>\n",
       "    </tr>\n",
       "  </tbody>\n",
       "</table>\n",
       "<p>5 rows × 175 columns</p>\n",
       "</div>"
      ],
      "text/plain": [
       "  agency_ori_7 ori_group  year    pop1  pop2  pop3     agency_name  \\\n",
       "0      AL00100        9A  1960  165354     0     0       JEFFERSON   \n",
       "1      AL00101         4  1960   33054     0     0        BESSEMER   \n",
       "2      AL00102        1C  1960  340887     0     0      BIRMINGHAM   \n",
       "3      AL00103         5  1960   12680     0     0  MOUNTAIN BROOK   \n",
       "4      AL00104         5  1960   15816     0     0       FAIRFIELD   \n",
       "\n",
       "   jan_actual_murder  jan_actual_assault_total  jan_actual_assault_gun  \\\n",
       "0                  0                         7                       0   \n",
       "1                  0                         6                       0   \n",
       "2                  2                        82                       0   \n",
       "3                  0                         0                       0   \n",
       "4                  0                         4                       0   \n",
       "\n",
       "              ...              dec_actual_assault_othweap  \\\n",
       "0             ...                                       0   \n",
       "1             ...                                       0   \n",
       "2             ...                                       0   \n",
       "3             ...                                       0   \n",
       "4             ...                                       0   \n",
       "\n",
       "   dec_actual_assault_hands  dec_actual_assault_simple  dec_cleared_murder  \\\n",
       "0                         0                          0                   0   \n",
       "1                         0                          0                   0   \n",
       "2                         0                          0                   0   \n",
       "3                         0                          0                   0   \n",
       "4                         0                          0                   0   \n",
       "\n",
       "   dec_cleared_assault_total  dec_cleared_assault_gun  \\\n",
       "0                          0                        0   \n",
       "1                          0                        0   \n",
       "2                          0                        0   \n",
       "3                          0                        0   \n",
       "4                          0                        0   \n",
       "\n",
       "   dec_cleared_assault_knife  dec_cleared_assault_othweap  \\\n",
       "0                          0                            0   \n",
       "1                          0                            0   \n",
       "2                          0                            0   \n",
       "3                          0                            0   \n",
       "4                          0                            0   \n",
       "\n",
       "   dec_cleared_assault_hands  dec_cleared_assault_simple  \n",
       "0                          0                           0  \n",
       "1                          0                           0  \n",
       "2                          0                           0  \n",
       "3                          0                           0  \n",
       "4                          0                           0  \n",
       "\n",
       "[5 rows x 175 columns]"
      ]
     },
     "execution_count": 16,
     "metadata": {},
     "output_type": "execute_result"
    }
   ],
   "source": [
    "parsed.head()"
   ]
  },
  {
   "cell_type": "markdown",
   "metadata": {},
   "source": [
    "# Step 2: Fix apparent ORI errors\n",
    "\n",
    "In this step, we fix a few rows where an agency's ORI code appears to be mislabeled, based on duplicate entries for the same ORI."
   ]
  },
  {
   "cell_type": "code",
   "execution_count": 17,
   "metadata": {},
   "outputs": [],
   "source": [
    "def fix_errors(df):\n",
    "\n",
    "    df.loc[(\n",
    "        (df[\"agency_ori_7\"] == \"VA02101\") &\n",
    "        (df[\"year\"].isin([ 1967, 1970 ])) &\n",
    "        (df[\"ori_group\"] == \"9D\")\n",
    "    ), \"agency_ori_7\"] = \"VA021SP\"\n",
    "\n",
    "    df.loc[(\n",
    "        (df[\"agency_ori_7\"] == \"SC02901\") &\n",
    "        (df[\"year\"] == 1972) &\n",
    "        (df[\"ori_group\"] == \"9A\")\n",
    "    ), \"agency_ori_7\"] = \"VA02901\"\n",
    "\n",
    "    return df"
   ]
  },
  {
   "cell_type": "code",
   "execution_count": 18,
   "metadata": {},
   "outputs": [],
   "source": [
    "parsed = fix_errors(parsed)"
   ]
  },
  {
   "cell_type": "code",
   "execution_count": 19,
   "metadata": {},
   "outputs": [
    {
     "data": {
      "text/plain": [
       "1"
      ]
     },
     "execution_count": 19,
     "metadata": {},
     "output_type": "execute_result"
    }
   ],
   "source": [
    "parsed.duplicated(subset = [ \"year\", \"agency_ori_7\" ]).sum()"
   ]
  },
  {
   "cell_type": "markdown",
   "metadata": {},
   "source": [
    "# Step 3: Extract and save agency-year metadata"
   ]
  },
  {
   "cell_type": "code",
   "execution_count": 20,
   "metadata": {},
   "outputs": [
    {
     "data": {
      "text/html": [
       "<div>\n",
       "<style scoped>\n",
       "    .dataframe tbody tr th:only-of-type {\n",
       "        vertical-align: middle;\n",
       "    }\n",
       "\n",
       "    .dataframe tbody tr th {\n",
       "        vertical-align: top;\n",
       "    }\n",
       "\n",
       "    .dataframe thead th {\n",
       "        text-align: right;\n",
       "    }\n",
       "</style>\n",
       "<table border=\"1\" class=\"dataframe\">\n",
       "  <thead>\n",
       "    <tr style=\"text-align: right;\">\n",
       "      <th></th>\n",
       "      <th>year</th>\n",
       "      <th>agency_ori_7</th>\n",
       "      <th>agency_name</th>\n",
       "      <th>ori_group</th>\n",
       "      <th>pop1</th>\n",
       "      <th>pop2</th>\n",
       "      <th>pop3</th>\n",
       "    </tr>\n",
       "  </thead>\n",
       "  <tbody>\n",
       "    <tr>\n",
       "      <th>0</th>\n",
       "      <td>1960</td>\n",
       "      <td>AL00100</td>\n",
       "      <td>JEFFERSON</td>\n",
       "      <td>9A</td>\n",
       "      <td>165354</td>\n",
       "      <td>0</td>\n",
       "      <td>0</td>\n",
       "    </tr>\n",
       "    <tr>\n",
       "      <th>1</th>\n",
       "      <td>1960</td>\n",
       "      <td>AL00101</td>\n",
       "      <td>BESSEMER</td>\n",
       "      <td>4</td>\n",
       "      <td>33054</td>\n",
       "      <td>0</td>\n",
       "      <td>0</td>\n",
       "    </tr>\n",
       "    <tr>\n",
       "      <th>2</th>\n",
       "      <td>1960</td>\n",
       "      <td>AL00102</td>\n",
       "      <td>BIRMINGHAM</td>\n",
       "      <td>1C</td>\n",
       "      <td>340887</td>\n",
       "      <td>0</td>\n",
       "      <td>0</td>\n",
       "    </tr>\n",
       "    <tr>\n",
       "      <th>3</th>\n",
       "      <td>1960</td>\n",
       "      <td>AL00103</td>\n",
       "      <td>MOUNTAIN BROOK</td>\n",
       "      <td>5</td>\n",
       "      <td>12680</td>\n",
       "      <td>0</td>\n",
       "      <td>0</td>\n",
       "    </tr>\n",
       "    <tr>\n",
       "      <th>4</th>\n",
       "      <td>1960</td>\n",
       "      <td>AL00104</td>\n",
       "      <td>FAIRFIELD</td>\n",
       "      <td>5</td>\n",
       "      <td>15816</td>\n",
       "      <td>0</td>\n",
       "      <td>0</td>\n",
       "    </tr>\n",
       "  </tbody>\n",
       "</table>\n",
       "</div>"
      ],
      "text/plain": [
       "   year agency_ori_7     agency_name ori_group    pop1  pop2  pop3\n",
       "0  1960      AL00100       JEFFERSON        9A  165354     0     0\n",
       "1  1960      AL00101        BESSEMER         4   33054     0     0\n",
       "2  1960      AL00102      BIRMINGHAM        1C  340887     0     0\n",
       "3  1960      AL00103  MOUNTAIN BROOK         5   12680     0     0\n",
       "4  1960      AL00104       FAIRFIELD         5   15816     0     0"
      ]
     },
     "execution_count": 20,
     "metadata": {},
     "output_type": "execute_result"
    }
   ],
   "source": [
    "agency_metadata = (\n",
    "    parsed\n",
    "    [[\n",
    "        \"year\",\n",
    "        \"agency_ori_7\",\n",
    "        \"agency_name\",\n",
    "        \"ori_group\",\n",
    "        \"pop1\",\n",
    "        \"pop2\",\n",
    "        \"pop3\"\n",
    "    ]]\n",
    "    .drop_duplicates()\n",
    "    .astype({\n",
    "        \"pop1\": int,\n",
    "        \"pop2\": int,\n",
    "        \"pop3\": int\n",
    "    })\n",
    ")\n",
    "\n",
    "agency_metadata.head()"
   ]
  },
  {
   "cell_type": "code",
   "execution_count": 21,
   "metadata": {},
   "outputs": [],
   "source": [
    "(\n",
    "    agency_metadata\n",
    "    .to_csv(\n",
    "        \"../../data/reta/standardized/reta-agency-metadata.csv\",\n",
    "        index = False\n",
    "    )\n",
    ")"
   ]
  },
  {
   "cell_type": "markdown",
   "metadata": {},
   "source": [
    "# Step 4: Summarize into annual counts\n",
    "\n",
    "Note: In this step, we convert the \"wide\" structure of the data into an easier-to-analyze structure."
   ]
  },
  {
   "cell_type": "code",
   "execution_count": 22,
   "metadata": {},
   "outputs": [
    {
     "data": {
      "text/html": [
       "<div>\n",
       "<style scoped>\n",
       "    .dataframe tbody tr th:only-of-type {\n",
       "        vertical-align: middle;\n",
       "    }\n",
       "\n",
       "    .dataframe tbody tr th {\n",
       "        vertical-align: top;\n",
       "    }\n",
       "\n",
       "    .dataframe thead th {\n",
       "        text-align: right;\n",
       "    }\n",
       "</style>\n",
       "<table border=\"1\" class=\"dataframe\">\n",
       "  <thead>\n",
       "    <tr style=\"text-align: right;\">\n",
       "      <th></th>\n",
       "      <th>agency_ori_7</th>\n",
       "      <th>year</th>\n",
       "      <th>variable</th>\n",
       "      <th>value</th>\n",
       "      <th>offense</th>\n",
       "      <th>count_type</th>\n",
       "    </tr>\n",
       "  </thead>\n",
       "  <tbody>\n",
       "    <tr>\n",
       "      <th>0</th>\n",
       "      <td>AL00100</td>\n",
       "      <td>1960</td>\n",
       "      <td>jan_actual_murder</td>\n",
       "      <td>0</td>\n",
       "      <td>murder</td>\n",
       "      <td>actual</td>\n",
       "    </tr>\n",
       "    <tr>\n",
       "      <th>1</th>\n",
       "      <td>AL00101</td>\n",
       "      <td>1960</td>\n",
       "      <td>jan_actual_murder</td>\n",
       "      <td>0</td>\n",
       "      <td>murder</td>\n",
       "      <td>actual</td>\n",
       "    </tr>\n",
       "    <tr>\n",
       "      <th>2</th>\n",
       "      <td>AL00102</td>\n",
       "      <td>1960</td>\n",
       "      <td>jan_actual_murder</td>\n",
       "      <td>2</td>\n",
       "      <td>murder</td>\n",
       "      <td>actual</td>\n",
       "    </tr>\n",
       "    <tr>\n",
       "      <th>3</th>\n",
       "      <td>AL00103</td>\n",
       "      <td>1960</td>\n",
       "      <td>jan_actual_murder</td>\n",
       "      <td>0</td>\n",
       "      <td>murder</td>\n",
       "      <td>actual</td>\n",
       "    </tr>\n",
       "    <tr>\n",
       "      <th>4</th>\n",
       "      <td>AL00104</td>\n",
       "      <td>1960</td>\n",
       "      <td>jan_actual_murder</td>\n",
       "      <td>0</td>\n",
       "      <td>murder</td>\n",
       "      <td>actual</td>\n",
       "    </tr>\n",
       "  </tbody>\n",
       "</table>\n",
       "</div>"
      ],
      "text/plain": [
       "  agency_ori_7  year           variable  value offense count_type\n",
       "0      AL00100  1960  jan_actual_murder      0  murder     actual\n",
       "1      AL00101  1960  jan_actual_murder      0  murder     actual\n",
       "2      AL00102  1960  jan_actual_murder      2  murder     actual\n",
       "3      AL00103  1960  jan_actual_murder      0  murder     actual\n",
       "4      AL00104  1960  jan_actual_murder      0  murder     actual"
      ]
     },
     "execution_count": 22,
     "metadata": {},
     "output_type": "execute_result"
    }
   ],
   "source": [
    "tidy_counts = (\n",
    "    parsed\n",
    "    .melt(\n",
    "        id_vars = [ \"agency_ori_7\", \"year\" ],\n",
    "        value_vars = [ c for c in parsed.columns\n",
    "            if c.count(\"_\") > 0 and c.split(\"_\")[1] in [ \"actual\", \"cleared\" ] ]\n",
    "    )\n",
    "\n",
    "    .assign(\n",
    "        offense = lambda x: x[\"variable\"].apply(lambda s: s.split(\"_\", 2)[-1]),\n",
    "        \n",
    "        count_type = lambda x: x[\"variable\"].apply(lambda s: s.split(\"_\", 2)[-2]),\n",
    "    )\n",
    "\n",
    ")\n",
    "\n",
    "tidy_counts.head()"
   ]
  },
  {
   "cell_type": "code",
   "execution_count": 23,
   "metadata": {},
   "outputs": [
    {
     "data": {
      "text/plain": [
       "actual     80555580\n",
       "cleared    80555580\n",
       "Name: count_type, dtype: int64"
      ]
     },
     "execution_count": 23,
     "metadata": {},
     "output_type": "execute_result"
    }
   ],
   "source": [
    "tidy_counts[\"count_type\"].value_counts().sort_index()"
   ]
  },
  {
   "cell_type": "code",
   "execution_count": 24,
   "metadata": {},
   "outputs": [
    {
     "data": {
      "text/plain": [
       "assault_gun        23015880\n",
       "assault_hands      23015880\n",
       "assault_knife      23015880\n",
       "assault_othweap    23015880\n",
       "assault_simple     23015880\n",
       "assault_total      23015880\n",
       "murder             23015880\n",
       "Name: offense, dtype: int64"
      ]
     },
     "execution_count": 24,
     "metadata": {},
     "output_type": "execute_result"
    }
   ],
   "source": [
    "tidy_counts[\"offense\"].value_counts().sort_index()"
   ]
  },
  {
   "cell_type": "code",
   "execution_count": 25,
   "metadata": {},
   "outputs": [
    {
     "data": {
      "text/plain": [
       "-1      5275\n",
       "-2       498\n",
       "-3       136\n",
       "-4        58\n",
       "-5        44\n",
       "-6        22\n",
       "-7        23\n",
       "-8        12\n",
       "-9         9\n",
       "-10        6\n",
       "-11        9\n",
       "-12        4\n",
       "-13        5\n",
       "-14        4\n",
       "-15        4\n",
       "-16        6\n",
       "-17        4\n",
       "-18        4\n",
       "-19        4\n",
       "-20        2\n",
       "-21       10\n",
       "-23        1\n",
       "-25        2\n",
       "-26        1\n",
       "-31        2\n",
       "-33        3\n",
       "-34        1\n",
       "-36        1\n",
       "-38        1\n",
       "-39        1\n",
       "-42        2\n",
       "-43        2\n",
       "-44        1\n",
       "-55        2\n",
       "-60        1\n",
       "-66        1\n",
       "-67        1\n",
       "-69        2\n",
       "-74        1\n",
       "-79        1\n",
       "-85        2\n",
       "-89        1\n",
       "-106       1\n",
       "-128       1\n",
       "-142       1\n",
       "-174       1\n",
       "-619       1\n",
       "-629       1\n",
       "Name: value, dtype: int64"
      ]
     },
     "execution_count": 25,
     "metadata": {},
     "output_type": "execute_result"
    }
   ],
   "source": [
    "# Overview of negative numbers in the data\n",
    "(\n",
    "    tidy_counts\n",
    "    .loc[lambda df: df[\"value\"] < 0]\n",
    "    [\"value\"]\n",
    "    .value_counts()\n",
    "    .sort_index(ascending = False)\n",
    ")"
   ]
  },
  {
   "cell_type": "code",
   "execution_count": 26,
   "metadata": {},
   "outputs": [
    {
     "data": {
      "text/html": [
       "<div>\n",
       "<style scoped>\n",
       "    .dataframe tbody tr th:only-of-type {\n",
       "        vertical-align: middle;\n",
       "    }\n",
       "\n",
       "    .dataframe tbody tr th {\n",
       "        vertical-align: top;\n",
       "    }\n",
       "\n",
       "    .dataframe thead th {\n",
       "        text-align: right;\n",
       "    }\n",
       "</style>\n",
       "<table border=\"1\" class=\"dataframe\">\n",
       "  <thead>\n",
       "    <tr style=\"text-align: right;\">\n",
       "      <th>count_type</th>\n",
       "      <th>agency_ori_7</th>\n",
       "      <th>year</th>\n",
       "      <th>offense</th>\n",
       "      <th>actual</th>\n",
       "      <th>cleared</th>\n",
       "    </tr>\n",
       "  </thead>\n",
       "  <tbody>\n",
       "    <tr>\n",
       "      <th>0</th>\n",
       "      <td>AK00101</td>\n",
       "      <td>1960</td>\n",
       "      <td>assault_gun</td>\n",
       "      <td>0</td>\n",
       "      <td>0</td>\n",
       "    </tr>\n",
       "    <tr>\n",
       "      <th>1</th>\n",
       "      <td>AK00101</td>\n",
       "      <td>1960</td>\n",
       "      <td>assault_hands</td>\n",
       "      <td>0</td>\n",
       "      <td>0</td>\n",
       "    </tr>\n",
       "    <tr>\n",
       "      <th>2</th>\n",
       "      <td>AK00101</td>\n",
       "      <td>1960</td>\n",
       "      <td>assault_knife</td>\n",
       "      <td>0</td>\n",
       "      <td>0</td>\n",
       "    </tr>\n",
       "    <tr>\n",
       "      <th>3</th>\n",
       "      <td>AK00101</td>\n",
       "      <td>1960</td>\n",
       "      <td>assault_othweap</td>\n",
       "      <td>0</td>\n",
       "      <td>0</td>\n",
       "    </tr>\n",
       "    <tr>\n",
       "      <th>4</th>\n",
       "      <td>AK00101</td>\n",
       "      <td>1960</td>\n",
       "      <td>assault_simple</td>\n",
       "      <td>0</td>\n",
       "      <td>0</td>\n",
       "    </tr>\n",
       "  </tbody>\n",
       "</table>\n",
       "</div>"
      ],
      "text/plain": [
       "count_type agency_ori_7  year          offense  actual  cleared\n",
       "0               AK00101  1960      assault_gun       0        0\n",
       "1               AK00101  1960    assault_hands       0        0\n",
       "2               AK00101  1960    assault_knife       0        0\n",
       "3               AK00101  1960  assault_othweap       0        0\n",
       "4               AK00101  1960   assault_simple       0        0"
      ]
     },
     "execution_count": 26,
     "metadata": {},
     "output_type": "execute_result"
    }
   ],
   "source": [
    "annual_counts = (\n",
    "    tidy_counts\n",
    "    .groupby([\n",
    "        \"agency_ori_7\",\n",
    "        \"year\",\n",
    "        \"offense\",\n",
    "        \"count_type\"\n",
    "    ])\n",
    "    [\"value\"]\n",
    "    .sum()\n",
    "    .unstack()\n",
    "    .reset_index()\n",
    ")\n",
    "\n",
    "annual_counts.head()"
   ]
  },
  {
   "cell_type": "markdown",
   "metadata": {},
   "source": [
    "# Step 5: Save counts for subsequent analysis"
   ]
  },
  {
   "cell_type": "code",
   "execution_count": 27,
   "metadata": {},
   "outputs": [],
   "source": [
    "(\n",
    "    annual_counts\n",
    "    .to_csv(\n",
    "        \"../../data/standardized/reta-annual-counts.csv\",\n",
    "        index = False\n",
    "    )\n",
    ")"
   ]
  },
  {
   "cell_type": "markdown",
   "metadata": {},
   "source": [
    "---\n",
    "\n",
    "---\n",
    "\n",
    "---"
   ]
  }
 ],
 "metadata": {
  "kernelspec": {
   "display_name": "Python 3",
   "language": "python",
   "name": "python3"
  },
  "language_info": {
   "codemirror_mode": {
    "name": "ipython",
    "version": 3
   },
   "file_extension": ".py",
   "mimetype": "text/x-python",
   "name": "python",
   "nbconvert_exporter": "python",
   "pygments_lexer": "ipython3",
   "version": "3.6.4"
  }
 },
 "nbformat": 4,
 "nbformat_minor": 2
}
